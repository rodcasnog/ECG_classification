{
 "cells": [
  {
   "cell_type": "code",
   "execution_count": 1,
   "metadata": {},
   "outputs": [],
   "source": [
    "import os\n",
    "\n",
    "os.environ['TF_METAL_AMP_ENABLED'] = 'false'"
   ]
  },
  {
   "cell_type": "code",
   "execution_count": 2,
   "metadata": {},
   "outputs": [],
   "source": [
    "import matplotlib.pyplot as plt\n",
    "import matplotlib\n",
    "import numpy as np\n",
    "import pandas as pd\n",
    "import pywt\n",
    "import time\n",
    "from biosppy.signals.ecg import correct_rpeaks\n",
    "from ecgdetectors import Detectors\n",
    "import biosppy.signals.ecg as ecg\n",
    "import cv2\n",
    "import neurokit2 as nk\n",
    "import os\n",
    "import shutil\n",
    "\n",
    "# from sklearn.preprocessing import RobustScaler, StandardScaler"
   ]
  },
  {
   "cell_type": "code",
   "execution_count": 3,
   "metadata": {},
   "outputs": [],
   "source": [
    "extraction_directory = 'extracted_images/'"
   ]
  },
  {
   "cell_type": "code",
   "execution_count": 4,
   "metadata": {},
   "outputs": [],
   "source": [
    "y_train = pd.read_csv(extraction_directory + 'y_train.csv', index_col='id')\n",
    "y_train_np = y_train['y'].to_numpy()"
   ]
  },
  {
   "cell_type": "code",
   "execution_count": 5,
   "metadata": {},
   "outputs": [],
   "source": [
    "X_train = pd.read_csv(extraction_directory + 'X_train.csv', index_col='id')\n",
    "X_train_np = X_train.to_numpy()"
   ]
  },
  {
   "cell_type": "markdown",
   "metadata": {},
   "source": [
    "# PREPOCESSING"
   ]
  },
  {
   "cell_type": "code",
   "execution_count": 6,
   "metadata": {},
   "outputs": [],
   "source": [
    "from numpy.random import RandomState\n",
    "\n",
    "prng = RandomState(0)\n",
    "\n",
    "def augment_signal(signal, max_shift, scaling_factor_range, noise_level, max_freq_change):\n",
    "    signal = signal.copy()\n",
    "    # Time Shifting\n",
    "    if max_shift > 0:\n",
    "        shift = prng.randint(-max_shift, max_shift)\n",
    "        signal = np.roll(signal, shift)\n",
    "\n",
    "    # Scaling\n",
    "    if scaling_factor_range > 0:\n",
    "        signal *= prng.uniform(1 - scaling_factor_range, 1 + scaling_factor_range)\n",
    "\n",
    "    # Adding Noise\n",
    "    if noise_level > 0:\n",
    "        signal += pd.DataFrame(prng.normal(0, noise_level, size=signal.size + 500)).rolling(window=500).median().to_numpy().squeeze()[500:]\n",
    "\n",
    "    # Frequency Change (Resampling)\n",
    "    if max_freq_change > 0:\n",
    "        freq_change = prng.uniform(1 - max_freq_change, 1 + max_freq_change)\n",
    "        resample_size = int(len(signal) * freq_change)\n",
    "        if freq_change > 1:\n",
    "            signal = np.interp(np.linspace(0, 1, resample_size), np.linspace(0, 1, len(signal)), signal)[:signal.size]\n",
    "        elif freq_change < 1:\n",
    "            signal = np.tile(np.interp(np.linspace(0, 1, resample_size), np.linspace(0, 1, len(signal)), signal), 2)[:signal.size]\n",
    "    return signal\n"
   ]
  },
  {
   "cell_type": "code",
   "execution_count": 7,
   "metadata": {},
   "outputs": [],
   "source": [
    "initial_signal_ids = dict()\n",
    "for class_label in range(4):\n",
    "    initial_signal_ids[class_label] = []\n",
    "for class_label in range(4):\n",
    "    for i in range(X_train.shape[0]):\n",
    "        if y_train_np[i] == class_label:\n",
    "            initial_signal_ids[class_label].append(i)"
   ]
  },
  {
   "cell_type": "code",
   "execution_count": 8,
   "metadata": {},
   "outputs": [
    {
     "name": "stdout",
     "output_type": "stream",
     "text": [
      "Original:\n",
      "0: 3030 = 59.21%\n",
      "1: 443 = 8.66%\n",
      "2: 1474 = 28.81%\n",
      "3: 170 = 3.32%\n",
      "\n",
      "Extended:\n",
      "0: 3030 = 32.65%\n",
      "1: 1772 = 19.09%\n",
      "2: 2948 = 31.77%\n",
      "3: 1530 = 16.49%\n"
     ]
    }
   ],
   "source": [
    "multiplier = 1\n",
    "\n",
    "class_distribution = y_train.apply(lambda x: {i: x[x == i].count() for i in range(4)})['y']\n",
    "print('Original:')\n",
    "for name in class_distribution:\n",
    "    print(str(name) + ': {:} = {:.2%}'.format(class_distribution[name] , class_distribution[name] / y_train_np.size))\n",
    "print('')\n",
    "\n",
    "# Parameters for augmentation\n",
    "max_shift = 400  # Maximum shift for time shifting\n",
    "scaling_factor_range = 0#0.05  # Scaling factor range for scaling\n",
    "noise_level = 500  # Noise level for adding noise\n",
    "max_freq_change = 0.1  # Maximum frequency change for resampling\n",
    "\n",
    "# Augmenting the dataset\n",
    "X_augmented = []\n",
    "y_augmented = []\n",
    "\n",
    "for class_label, repetitions in enumerate([((class_distribution[0] * multiplier ) // (2*v)) for v in class_distribution.values()]):\n",
    "    for _ in range(repetitions):\n",
    "        for index in initial_signal_ids[class_label]:\n",
    "            augmented_signal = augment_signal(X_train_np[i], max_shift, scaling_factor_range, noise_level, max_freq_change)\n",
    "            X_augmented.append(augmented_signal)\n",
    "            y_augmented.append(class_label)\n",
    "\n",
    "# Convert augmented data to numpy arrays and add to original dataset\n",
    "X_train_extended_np = np.array(X_augmented)\n",
    "y_train_extended_np = np.array(y_augmented)\n",
    "\n",
    "X_train_extended_np = np.concatenate((X_train_np, X_augmented))\n",
    "y_train_extended_np = np.concatenate((y_train_np, y_augmented))\n",
    "\n",
    "X_train_extended = pd.DataFrame(X_train_extended_np, columns=X_train.columns)\n",
    "y_train_extended = pd.DataFrame(y_train_extended_np, columns=y_train.columns)\n",
    "\n",
    "class_distribution_extended = y_train_extended.apply(lambda x: {i: x[x == i].count() for i in range(4)})['y']\n",
    "print('Extended:')\n",
    "for name in class_distribution_extended:\n",
    "    print(str(name) + ': {:} = {:.2%}'.format(class_distribution_extended[name], class_distribution_extended[name] / y_train_extended_np.size))"
   ]
  },
  {
   "cell_type": "code",
   "execution_count": 9,
   "metadata": {},
   "outputs": [],
   "source": [
    "def process_signal(signal):\n",
    "\n",
    "    length = signal.size\n",
    "\n",
    "    signal = signal[~np.isnan(signal)]\n",
    "\n",
    "    features = ecg.ecg(signal, 300, show=False)\n",
    "\n",
    "    peaks = correct_rpeaks(features[1], features[2], 300, .15)\n",
    "    median_peak_val = np.median(features[1][peaks])\n",
    "\n",
    "    if median_peak_val == 0 or median_peak_val == np.nan:\n",
    "        raise Exception()\n",
    "    \n",
    "    a = np.empty((length-signal.size,))\n",
    "    a[:] = np.nan\n",
    "    \n",
    "    return np.concatenate([(np.array(features[1]) - np.median(features[1])) / median_peak_val, a])\n"
   ]
  },
  {
   "cell_type": "code",
   "execution_count": 10,
   "metadata": {},
   "outputs": [],
   "source": [
    "X_train_transformed_np = np.array([process_signal(row) for row in X_train_extended_np])\n",
    "X_train_transformed = pd.DataFrame(data=X_train_transformed_np, columns=X_train_extended.columns, index=X_train_extended.index)"
   ]
  },
  {
   "cell_type": "markdown",
   "metadata": {},
   "source": [
    "# IMAGE GENERATION"
   ]
  },
  {
   "cell_type": "code",
   "execution_count": 11,
   "metadata": {},
   "outputs": [],
   "source": [
    "X_train_transformed_with_index = X_train_transformed.copy()\n",
    "X_train_transformed_with_index['index'] = X_train_transformed.index"
   ]
  },
  {
   "cell_type": "code",
   "execution_count": 12,
   "metadata": {},
   "outputs": [],
   "source": [
    "from keras.utils import to_categorical\n",
    "from sklearn.model_selection import train_test_split\n",
    "\n",
    "# Convert labels to categorical\n",
    "y_train_cat_np = to_categorical(y_train_extended_np)\n",
    "\n",
    "# Split data\n",
    "X_train_partial, X_val, y_train_partial, y_val = train_test_split(X_train_transformed_with_index.to_numpy(), y_train_cat_np, test_size=0.4, random_state=23)"
   ]
  },
  {
   "cell_type": "code",
   "execution_count": 13,
   "metadata": {},
   "outputs": [],
   "source": [
    "directory = '/Users/rcasado/Desktop/Rodrigo_work/Universidad/PhD/Other/Coding/Visual Studio Code/AML/task2/images'\n",
    "\n",
    "def reset(directory = directory):\n",
    "    if os.path.exists(directory):\n",
    "        shutil.rmtree(directory)\n",
    "\n",
    "    if not os.path.exists(directory):\n",
    "        os.makedirs(directory)\n",
    "\n",
    "    for folder in ['train', 'val']:\n",
    "        subdirectory = os.path.join(directory, folder)\n",
    "        os.makedirs(subdirectory)\n",
    "        for i in range(4):\n",
    "            subsubdirectory = os.path.join(subdirectory, str(i))\n",
    "            os.makedirs(subsubdirectory)\n",
    "    \n",
    "    subdirectory = os.path.join(directory, 'test/unkown')\n",
    "    os.makedirs(subdirectory)"
   ]
  },
  {
   "cell_type": "code",
   "execution_count": 14,
   "metadata": {},
   "outputs": [],
   "source": [
    "IMAGE_SIZE = (128, 128)"
   ]
  },
  {
   "cell_type": "code",
   "execution_count": 15,
   "metadata": {},
   "outputs": [],
   "source": [
    "matplotlib.use('Agg')\n",
    "\n",
    "def save_heartbeat_images(index, signal, directory, test=False):\n",
    "    \n",
    "    peaks = correct_rpeaks(signal, nk.ecg_peaks(signal, sampling_rate=300)[1]['ECG_R_Peaks'], 300, .15)[0]\n",
    "    \n",
    "    beats = ecg.extract_heartbeats(signal, peaks, 300)['templates']\n",
    "\n",
    "    for i, beat in enumerate(beats):\n",
    "\n",
    "        fig = plt.figure(frameon=False)\n",
    "        plt.plot(beat, linewidth=5)\n",
    "        plt.xticks([]), plt.yticks([])\n",
    "        for spine in plt.gca().spines.values():\n",
    "            spine.set_visible(False)\n",
    "\n",
    "        if test:\n",
    "            filename = directory + f'/ECG{index}_heartbeat{i}.png'\n",
    "        else:\n",
    "            filename = directory + '/' + str(y_train_extended_np[index]) + f'/ECG{index}_heartbeat{i}.png'\n",
    "        fig.savefig(filename)\n",
    "        im_gray = cv2.imread(filename, cv2.IMREAD_GRAYSCALE)\n",
    "        im_gray = cv2.resize(im_gray, IMAGE_SIZE, interpolation = cv2.INTER_LANCZOS4)\n",
    "        cv2.imwrite(filename, im_gray)\n",
    "        # cropping(im_gray, filename)\n",
    "        plt.close('all')  "
   ]
  },
  {
   "cell_type": "code",
   "execution_count": 16,
   "metadata": {},
   "outputs": [],
   "source": [
    "def process_data(data, directory=directory + '/train', test=False):\n",
    "    start = time.time()\n",
    "    counter = 0\n",
    "\n",
    "    for row in data:\n",
    "\n",
    "        save_heartbeat_images(int(row[-1]), row[:-1], directory, test)\n",
    "\n",
    "        counter += 1\n",
    "        if counter % 10 == 0:\n",
    "            print('.', end='')\n",
    "        \n",
    "        if counter % 1000 == 0:\n",
    "            print('')\n",
    "\n",
    "    print('\\n' + str(time.time() - start))"
   ]
  },
  {
   "cell_type": "code",
   "execution_count": 17,
   "metadata": {},
   "outputs": [
    {
     "name": "stdout",
     "output_type": "stream",
     "text": [
      "....................................................................................................\n",
      "....................................................................................................\n",
      "....................................................................................................\n",
      "....................................................................................................\n",
      "....................................................................................................\n",
      "........................................................\n",
      "6004.830610990524\n"
     ]
    }
   ],
   "source": [
    "reset()\n",
    "\n",
    "process_data(X_train_partial)"
   ]
  },
  {
   "cell_type": "code",
   "execution_count": 18,
   "metadata": {},
   "outputs": [
    {
     "name": "stdout",
     "output_type": "stream",
     "text": [
      "....................................................................................................\n",
      "....................................................................................................\n",
      "....................................................................................................\n",
      ".......................................................................\n",
      "4008.269727230072\n"
     ]
    }
   ],
   "source": [
    "process_data(X_val, directory + '/val')"
   ]
  },
  {
   "cell_type": "code",
   "execution_count": null,
   "metadata": {},
   "outputs": [],
   "source": []
  },
  {
   "cell_type": "markdown",
   "metadata": {},
   "source": [
    "# OBTAIN TEST DATA"
   ]
  },
  {
   "cell_type": "code",
   "execution_count": 19,
   "metadata": {},
   "outputs": [],
   "source": [
    "X_test  = pd.read_csv(extraction_directory + 'X_test.csv', index_col='id')\n",
    "X_test_np = X_test.to_numpy()\n",
    "\n",
    "X_test_transformed_np = np.array([process_signal(row) for row in X_test_np])\n",
    "X_test_transformed = pd.DataFrame(data=X_test_transformed_np, columns=X_test.columns, index=X_test.index)"
   ]
  },
  {
   "cell_type": "code",
   "execution_count": 20,
   "metadata": {},
   "outputs": [],
   "source": [
    "X_test_transformed_with_index = X_test_transformed.copy()\n",
    "X_test_transformed_with_index['index'] = X_test_transformed.index\n",
    "X_test_transformed_with_index_np = X_test_transformed_with_index.to_numpy()"
   ]
  },
  {
   "cell_type": "code",
   "execution_count": 21,
   "metadata": {},
   "outputs": [
    {
     "name": "stdout",
     "output_type": "stream",
     "text": [
      "....................................................................................................\n",
      "....................................................................................................\n",
      "....................................................................................................\n",
      ".........................................\n",
      "3311.9487721920013\n"
     ]
    }
   ],
   "source": [
    "process_data(X_test_transformed_with_index_np, directory + '/test/unkown', test=True)"
   ]
  },
  {
   "cell_type": "code",
   "execution_count": 22,
   "metadata": {},
   "outputs": [
    {
     "data": {
      "text/plain": [
       "(3411, 17808)"
      ]
     },
     "execution_count": 22,
     "metadata": {},
     "output_type": "execute_result"
    }
   ],
   "source": [
    "X_test_transformed_with_index_np.shape"
   ]
  },
  {
   "cell_type": "code",
   "execution_count": null,
   "metadata": {},
   "outputs": [],
   "source": []
  },
  {
   "cell_type": "markdown",
   "metadata": {},
   "source": [
    "# MODEL DEFINITION"
   ]
  },
  {
   "cell_type": "code",
   "execution_count": 60,
   "metadata": {},
   "outputs": [],
   "source": [
    "learning_rate = 1e-2\n",
    "IMAGE_SIZE = (128, 128)"
   ]
  },
  {
   "cell_type": "code",
   "execution_count": 50,
   "metadata": {},
   "outputs": [
    {
     "name": "stdout",
     "output_type": "stream",
     "text": [
      "Downloading data from https://storage.googleapis.com/tensorflow/keras-applications/vgg16/vgg16_weights_tf_dim_ordering_tf_kernels_notop.h5\n",
      "58889256/58889256 [==============================] - 46s 1us/step\n"
     ]
    }
   ],
   "source": [
    "import keras\n",
    "\n",
    "inputs = keras.layers.Input(shape=IMAGE_SIZE + (3,))\n",
    "\n",
    "base_model = keras.applications.VGG16(include_top=False, input_tensor=inputs, weights=\"imagenet\")\n",
    "\n",
    "# base_model = keras.applications.EfficientNetB0(include_top=False, input_tensor=inputs, weights=\"imagenet\")\n",
    "\n",
    "base_model.trainable = False"
   ]
  },
  {
   "cell_type": "code",
   "execution_count": 57,
   "metadata": {},
   "outputs": [],
   "source": [
    "import keras\n",
    "\n",
    "x = keras.layers.GlobalAveragePooling2D()(base_model.output)   \n",
    "x = keras.layers.BatchNormalization()(x)\n",
    "x = keras.layers.Dropout(0.5)(x)\n",
    "x = keras.layers.Dense(512, activation='relu')(x)\n",
    "x = keras.layers.BatchNormalization()(x)\n",
    "outputs = keras.layers.Dense(4, activation='softmax')(x)\n",
    "\n",
    "model = keras.Model(inputs, outputs)"
   ]
  },
  {
   "cell_type": "code",
   "execution_count": 61,
   "metadata": {},
   "outputs": [
    {
     "name": "stdout",
     "output_type": "stream",
     "text": [
      "Model: \"model_5\"\n",
      "____________________________________________________________________________\n",
      " Layer (type)                Output Shape              Param #   Trainable  \n",
      "============================================================================\n",
      " input_6 (InputLayer)        [(None, 128, 128, 3)]     0         N          \n",
      "                                                                            \n",
      " block1_conv1 (Conv2D)       (None, 128, 128, 64)      1792      N          \n",
      "                                                                            \n",
      " block1_conv2 (Conv2D)       (None, 128, 128, 64)      36928     N          \n",
      "                                                                            \n",
      " block1_pool (MaxPooling2D)  (None, 64, 64, 64)        0         N          \n",
      "                                                                            \n",
      " block2_conv1 (Conv2D)       (None, 64, 64, 128)       73856     N          \n",
      "                                                                            \n",
      " block2_conv2 (Conv2D)       (None, 64, 64, 128)       147584    N          \n",
      "                                                                            \n",
      " block2_pool (MaxPooling2D)  (None, 32, 32, 128)       0         N          \n",
      "                                                                            \n",
      " block3_conv1 (Conv2D)       (None, 32, 32, 256)       295168    N          \n",
      "                                                                            \n",
      " block3_conv2 (Conv2D)       (None, 32, 32, 256)       590080    N          \n",
      "                                                                            \n",
      " block3_conv3 (Conv2D)       (None, 32, 32, 256)       590080    N          \n",
      "                                                                            \n",
      " block3_pool (MaxPooling2D)  (None, 16, 16, 256)       0         N          \n",
      "                                                                            \n",
      " block4_conv1 (Conv2D)       (None, 16, 16, 512)       1180160   N          \n",
      "                                                                            \n",
      " block4_conv2 (Conv2D)       (None, 16, 16, 512)       2359808   N          \n",
      "                                                                            \n",
      " block4_conv3 (Conv2D)       (None, 16, 16, 512)       2359808   N          \n",
      "                                                                            \n",
      " block4_pool (MaxPooling2D)  (None, 8, 8, 512)         0         N          \n",
      "                                                                            \n",
      " block5_conv1 (Conv2D)       (None, 8, 8, 512)         2359808   N          \n",
      "                                                                            \n",
      " block5_conv2 (Conv2D)       (None, 8, 8, 512)         2359808   N          \n",
      "                                                                            \n",
      " block5_conv3 (Conv2D)       (None, 8, 8, 512)         2359808   N          \n",
      "                                                                            \n",
      " block5_pool (MaxPooling2D)  (None, 4, 4, 512)         0         N          \n",
      "                                                                            \n",
      " global_average_pooling2d_5  (None, 512)               0         Y          \n",
      "  (GlobalAveragePooling2D)                                                  \n",
      "                                                                            \n",
      " batch_normalization_6 (Bat  (None, 512)               2048      Y          \n",
      " chNormalization)                                                           \n",
      "                                                                            \n",
      " dropout_8 (Dropout)         (None, 512)               0         Y          \n",
      "                                                                            \n",
      " dense_10 (Dense)            (None, 512)               262656    Y          \n",
      "                                                                            \n",
      " batch_normalization_7 (Bat  (None, 512)               2048      Y          \n",
      " chNormalization)                                                           \n",
      "                                                                            \n",
      " dense_11 (Dense)            (None, 4)                 2052      Y          \n",
      "                                                                            \n",
      "============================================================================\n",
      "Total params: 14983492 (57.16 MB)\n",
      "Trainable params: 266756 (1.02 MB)\n",
      "Non-trainable params: 14716736 (56.14 MB)\n",
      "____________________________________________________________________________\n"
     ]
    }
   ],
   "source": [
    "import tensorflow as tf\n",
    "\n",
    "model.compile(loss='categorical_crossentropy',\n",
    "              metrics=['accuracy'],\n",
    "              optimizer=tf.keras.optimizers.legacy.RMSprop(learning_rate=learning_rate))\n",
    "\n",
    "model.summary(show_trainable=True)"
   ]
  },
  {
   "cell_type": "markdown",
   "metadata": {},
   "source": [
    "# IMAGE GENERATOR"
   ]
  },
  {
   "cell_type": "code",
   "execution_count": 53,
   "metadata": {},
   "outputs": [
    {
     "name": "stdout",
     "output_type": "stream",
     "text": [
      "Found 230973 images belonging to 4 classes.\n",
      "Found 154705 images belonging to 4 classes.\n",
      "Found 127735 images belonging to 1 classes.\n"
     ]
    }
   ],
   "source": [
    "from keras.preprocessing.image import ImageDataGenerator\n",
    "from keras.applications.vgg16 import preprocess_input\n",
    "\n",
    "batch_size = 32\n",
    "\n",
    "# Set up data generator for training with augmentation\n",
    "train_datagen = ImageDataGenerator(\n",
    "    width_shift_range=0.25,\n",
    "    height_shift_range=0.25,\n",
    "    preprocessing_function=preprocess_input,\n",
    ")\n",
    "\n",
    "validation_datagen = ImageDataGenerator(\n",
    "    preprocessing_function=preprocess_input,\n",
    ")\n",
    "\n",
    "test_datagen = ImageDataGenerator(\n",
    "    preprocessing_function=preprocess_input,\n",
    ")\n",
    "\n",
    "# Load images from directories for training\n",
    "train_generator = train_datagen.flow_from_directory(\n",
    "    'images/train',  # Base directory for training images\n",
    "    target_size=IMAGE_SIZE,\n",
    "    batch_size=batch_size,\n",
    "    color_mode='rgb',\n",
    "    class_mode='categorical'\n",
    ")\n",
    "\n",
    "validation_generator = validation_datagen.flow_from_directory(\n",
    "    'images/val',  # Base directory for validation images\n",
    "    target_size=IMAGE_SIZE,\n",
    "    batch_size=batch_size,\n",
    "    color_mode='rgb',\n",
    "    class_mode='categorical'\n",
    ")\n",
    "\n",
    "test_generator = test_datagen.flow_from_directory(\n",
    "    'images/test', # Base directory for test images\n",
    "    target_size=IMAGE_SIZE,\n",
    "    batch_size=8,\n",
    "    color_mode='rgb',\n",
    "    class_mode='categorical'\n",
    ")"
   ]
  },
  {
   "cell_type": "markdown",
   "metadata": {},
   "source": [
    "%matplotlib inline\n",
    "\n",
    "import matplotlib.pyplot as plt\n",
    "from keras.preprocessing.image import ImageDataGenerator\n",
    "import os\n",
    "import numpy as np\n",
    "from keras.preprocessing import image\n",
    "\n",
    "# Set up the ImageDataGenerator with your desired augmentations\n",
    "datagen = ImageDataGenerator(\n",
    "    width_shift_range=0.25,\n",
    "    height_shift_range=0.25,\n",
    ")\n",
    "\n",
    "# Choose a directory with your images\n",
    "img_dir = 'images/test/unkown'  # Change this to your directory\n",
    "\n",
    "# Load one image for demonstration\n",
    "img_path = os.path.join(img_dir, os.listdir(img_dir)[0])\n",
    "img = image.load_img(img_path, target_size=(128, 128), color_mode='grayscale')\n",
    "x = image.img_to_array(img)\n",
    "x = np.expand_dims(x, axis=0)\n",
    "\n",
    "# Generate batches of augmented images from this image\n",
    "aug_iter = datagen.flow(x)\n",
    "\n",
    "# Plot the original and augmented images\n",
    "plt.figure(figsize=(10, 10))\n",
    "plt.subplot(2, 2, 1)\n",
    "plt.imshow(img, cmap='gray')\n",
    "plt.title('Original Image')\n",
    "\n",
    "# Display some augmented images\n",
    "for i in range(3):\n",
    "    plt.subplot(2, 2, i + 2)\n",
    "    aug_img = next(aug_iter)[0].astype('uint8')\n",
    "    plt.imshow(aug_img[:, :, 0], cmap='gray')\n",
    "    plt.title(f'Augmented Image {i+1}')\n",
    "\n",
    "plt.show()\n"
   ]
  },
  {
   "cell_type": "markdown",
   "metadata": {},
   "source": [
    "# MODEL TRAINING"
   ]
  },
  {
   "cell_type": "code",
   "execution_count": 59,
   "metadata": {},
   "outputs": [
    {
     "name": "stdout",
     "output_type": "stream",
     "text": [
      "Epoch 1/25\n",
      "7217/7217 [==============================] - 526s 73ms/step - loss: 1.1642 - accuracy: 0.4249 - val_loss: 1.1299 - val_accuracy: 0.4320\n",
      "Epoch 2/25\n",
      "7217/7217 [==============================] - 528s 73ms/step - loss: 1.1297 - accuracy: 0.4318 - val_loss: 1.1152 - val_accuracy: 0.4308\n",
      "Epoch 3/25\n",
      "7217/7217 [==============================] - 526s 73ms/step - loss: 1.1261 - accuracy: 0.4333 - val_loss: 1.1155 - val_accuracy: 0.4334\n",
      "Epoch 4/25\n",
      "7217/7217 [==============================] - 1716s 238ms/step - loss: 1.1233 - accuracy: 0.4356 - val_loss: 1.1292 - val_accuracy: 0.4301\n",
      "Epoch 5/25\n",
      "7217/7217 [==============================] - 525s 73ms/step - loss: 1.1228 - accuracy: 0.4351 - val_loss: 1.1129 - val_accuracy: 0.4363\n",
      "Epoch 6/25\n",
      "7217/7217 [==============================] - 520s 72ms/step - loss: 1.1218 - accuracy: 0.4349 - val_loss: 1.1164 - val_accuracy: 0.4354\n",
      "Epoch 7/25\n",
      "7217/7217 [==============================] - 522s 72ms/step - loss: 1.1216 - accuracy: 0.4355 - val_loss: 1.1188 - val_accuracy: 0.4356\n",
      "Epoch 8/25\n",
      "7217/7217 [==============================] - 522s 72ms/step - loss: 1.1205 - accuracy: 0.4361 - val_loss: 1.1154 - val_accuracy: 0.4326\n",
      "Epoch 9/25\n",
      "7217/7217 [==============================] - 523s 73ms/step - loss: 1.1198 - accuracy: 0.4356 - val_loss: 1.1150 - val_accuracy: 0.4259\n",
      "Epoch 10/25\n",
      "7217/7217 [==============================] - 523s 72ms/step - loss: 1.1197 - accuracy: 0.4365 - val_loss: 1.1180 - val_accuracy: 0.4319\n",
      "Epoch 11/25\n",
      "7217/7217 [==============================] - 521s 72ms/step - loss: 1.1183 - accuracy: 0.4375 - val_loss: 1.1179 - val_accuracy: 0.4302\n",
      "Epoch 12/25\n",
      "7217/7217 [==============================] - 521s 72ms/step - loss: 1.1187 - accuracy: 0.4369 - val_loss: 1.1108 - val_accuracy: 0.4357\n",
      "Epoch 13/25\n",
      "7217/7217 [==============================] - 520s 72ms/step - loss: 1.1189 - accuracy: 0.4359 - val_loss: 1.1172 - val_accuracy: 0.4308\n",
      "Epoch 14/25\n",
      "7217/7217 [==============================] - 520s 72ms/step - loss: 1.1183 - accuracy: 0.4387 - val_loss: 1.1230 - val_accuracy: 0.4298\n",
      "Epoch 15/25\n",
      "7217/7217 [==============================] - 520s 72ms/step - loss: 1.1183 - accuracy: 0.4370 - val_loss: 1.1168 - val_accuracy: 0.4315\n",
      "Epoch 16/25\n",
      "7217/7217 [==============================] - 522s 72ms/step - loss: 1.1191 - accuracy: 0.4369 - val_loss: 1.1101 - val_accuracy: 0.4320\n",
      "Epoch 17/25\n",
      "7217/7217 [==============================] - 521s 72ms/step - loss: 1.1182 - accuracy: 0.4365 - val_loss: 1.1114 - val_accuracy: 0.4346\n",
      "Epoch 18/25\n",
      "7217/7217 [==============================] - 519s 72ms/step - loss: 1.1183 - accuracy: 0.4360 - val_loss: 1.1199 - val_accuracy: 0.4233\n",
      "Epoch 19/25\n",
      "7217/7217 [==============================] - 520s 72ms/step - loss: 1.1187 - accuracy: 0.4366 - val_loss: 1.1101 - val_accuracy: 0.4351\n",
      "Epoch 20/25\n",
      "7217/7217 [==============================] - 521s 72ms/step - loss: 1.1188 - accuracy: 0.4352 - val_loss: 1.1186 - val_accuracy: 0.4202\n",
      "Epoch 21/25\n",
      "7217/7217 [==============================] - 520s 72ms/step - loss: 1.1185 - accuracy: 0.4365 - val_loss: 1.1194 - val_accuracy: 0.4374\n",
      "Epoch 22/25\n",
      "7217/7217 [==============================] - 521s 72ms/step - loss: 1.1188 - accuracy: 0.4369 - val_loss: 1.1150 - val_accuracy: 0.4397\n",
      "Epoch 23/25\n",
      "7217/7217 [==============================] - 522s 72ms/step - loss: 1.1181 - accuracy: 0.4374 - val_loss: 1.1135 - val_accuracy: 0.4307\n",
      "Epoch 24/25\n",
      "7217/7217 [==============================] - 520s 72ms/step - loss: 1.1179 - accuracy: 0.4375 - val_loss: 1.1125 - val_accuracy: 0.4330\n",
      "Epoch 25/25\n",
      "7217/7217 [==============================] - 520s 72ms/step - loss: 1.1175 - accuracy: 0.4362 - val_loss: 1.1120 - val_accuracy: 0.4311\n"
     ]
    },
    {
     "data": {
      "text/plain": [
       "<keras.src.callbacks.History at 0x6e4aaa080>"
      ]
     },
     "execution_count": 59,
     "metadata": {},
     "output_type": "execute_result"
    }
   ],
   "source": [
    "model.fit(\n",
    "    train_generator,\n",
    "    steps_per_epoch=train_generator.samples // train_generator.batch_size,\n",
    "    validation_data=validation_generator,\n",
    "    validation_steps=validation_generator.samples // validation_generator.batch_size,\n",
    "    epochs=25\n",
    ")"
   ]
  },
  {
   "cell_type": "code",
   "execution_count": 62,
   "metadata": {},
   "outputs": [
    {
     "name": "stdout",
     "output_type": "stream",
     "text": [
      "Epoch 1/5\n",
      "7217/7217 [==============================] - 531s 73ms/step - loss: 1.1490 - accuracy: 0.4254 - val_loss: 1.1302 - val_accuracy: 0.4262\n",
      "Epoch 2/5\n",
      "7217/7217 [==============================] - 529s 73ms/step - loss: 1.1410 - accuracy: 0.4290 - val_loss: 1.1208 - val_accuracy: 0.4324\n",
      "Epoch 3/5\n",
      "7217/7217 [==============================] - 529s 73ms/step - loss: 1.1411 - accuracy: 0.4299 - val_loss: 1.1681 - val_accuracy: 0.4063\n",
      "Epoch 4/5\n",
      "7217/7217 [==============================] - 532s 74ms/step - loss: 1.1429 - accuracy: 0.4278 - val_loss: 1.1600 - val_accuracy: 0.4040\n",
      "Epoch 5/5\n",
      "7217/7217 [==============================] - 2053s 285ms/step - loss: 1.1437 - accuracy: 0.4270 - val_loss: 1.1289 - val_accuracy: 0.4348\n"
     ]
    },
    {
     "data": {
      "text/plain": [
       "<keras.src.callbacks.History at 0x710971db0>"
      ]
     },
     "execution_count": 62,
     "metadata": {},
     "output_type": "execute_result"
    }
   ],
   "source": [
    "model.fit(\n",
    "    train_generator,\n",
    "    steps_per_epoch=train_generator.samples // train_generator.batch_size,\n",
    "    validation_data=validation_generator,\n",
    "    validation_steps=validation_generator.samples // validation_generator.batch_size,\n",
    "    epochs=5\n",
    ")"
   ]
  },
  {
   "cell_type": "code",
   "execution_count": 63,
   "metadata": {},
   "outputs": [
    {
     "name": "stdout",
     "output_type": "stream",
     "text": [
      "Model: \"model_5\"\n",
      "____________________________________________________________________________\n",
      " Layer (type)                Output Shape              Param #   Trainable  \n",
      "============================================================================\n",
      " input_6 (InputLayer)        [(None, 128, 128, 3)]     0         Y          \n",
      "                                                                            \n",
      " block1_conv1 (Conv2D)       (None, 128, 128, 64)      1792      Y          \n",
      "                                                                            \n",
      " block1_conv2 (Conv2D)       (None, 128, 128, 64)      36928     Y          \n",
      "                                                                            \n",
      " block1_pool (MaxPooling2D)  (None, 64, 64, 64)        0         Y          \n",
      "                                                                            \n",
      " block2_conv1 (Conv2D)       (None, 64, 64, 128)       73856     Y          \n",
      "                                                                            \n",
      " block2_conv2 (Conv2D)       (None, 64, 64, 128)       147584    Y          \n",
      "                                                                            \n",
      " block2_pool (MaxPooling2D)  (None, 32, 32, 128)       0         Y          \n",
      "                                                                            \n",
      " block3_conv1 (Conv2D)       (None, 32, 32, 256)       295168    Y          \n",
      "                                                                            \n",
      " block3_conv2 (Conv2D)       (None, 32, 32, 256)       590080    Y          \n",
      "                                                                            \n",
      " block3_conv3 (Conv2D)       (None, 32, 32, 256)       590080    Y          \n",
      "                                                                            \n",
      " block3_pool (MaxPooling2D)  (None, 16, 16, 256)       0         Y          \n",
      "                                                                            \n",
      " block4_conv1 (Conv2D)       (None, 16, 16, 512)       1180160   Y          \n",
      "                                                                            \n",
      " block4_conv2 (Conv2D)       (None, 16, 16, 512)       2359808   Y          \n",
      "                                                                            \n",
      " block4_conv3 (Conv2D)       (None, 16, 16, 512)       2359808   Y          \n",
      "                                                                            \n",
      " block4_pool (MaxPooling2D)  (None, 8, 8, 512)         0         Y          \n",
      "                                                                            \n",
      " block5_conv1 (Conv2D)       (None, 8, 8, 512)         2359808   Y          \n",
      "                                                                            \n",
      " block5_conv2 (Conv2D)       (None, 8, 8, 512)         2359808   Y          \n",
      "                                                                            \n",
      " block5_conv3 (Conv2D)       (None, 8, 8, 512)         2359808   Y          \n",
      "                                                                            \n",
      " block5_pool (MaxPooling2D)  (None, 4, 4, 512)         0         Y          \n",
      "                                                                            \n",
      " global_average_pooling2d_5  (None, 512)               0         Y          \n",
      "  (GlobalAveragePooling2D)                                                  \n",
      "                                                                            \n",
      " batch_normalization_6 (Bat  (None, 512)               2048      Y          \n",
      " chNormalization)                                                           \n",
      "                                                                            \n",
      " dropout_8 (Dropout)         (None, 512)               0         Y          \n",
      "                                                                            \n",
      " dense_10 (Dense)            (None, 512)               262656    Y          \n",
      "                                                                            \n",
      " batch_normalization_7 (Bat  (None, 512)               2048      Y          \n",
      " chNormalization)                                                           \n",
      "                                                                            \n",
      " dense_11 (Dense)            (None, 4)                 2052      Y          \n",
      "                                                                            \n",
      "============================================================================\n",
      "Total params: 14983492 (57.16 MB)\n",
      "Trainable params: 14981444 (57.15 MB)\n",
      "Non-trainable params: 2048 (8.00 KB)\n",
      "____________________________________________________________________________\n"
     ]
    }
   ],
   "source": [
    "def unfreeze_model(model):\n",
    "    # We unfreeze the top 20 layers while leaving BatchNorm layers frozen\n",
    "    for layer in model.layers:\n",
    "        if not isinstance(layer, keras.layers.BatchNormalization):\n",
    "            layer.trainable = True\n",
    "\n",
    "\n",
    "unfreeze_model(model)\n",
    "\n",
    "model.compile(loss='categorical_crossentropy',\n",
    "              metrics=['accuracy'],\n",
    "              optimizer=tf.keras.optimizers.legacy.Adam(learning_rate=1e-5))\n",
    "\n",
    "model.summary(show_trainable=True)"
   ]
  },
  {
   "cell_type": "code",
   "execution_count": 64,
   "metadata": {},
   "outputs": [
    {
     "name": "stdout",
     "output_type": "stream",
     "text": [
      "Epoch 1/10\n",
      "7217/7217 [==============================] - 915s 127ms/step - loss: 1.0434 - accuracy: 0.4650 - val_loss: 1.0248 - val_accuracy: 0.4577 - lr: 1.0000e-05\n",
      "Epoch 2/10\n",
      "7217/7217 [==============================] - 955s 132ms/step - loss: 1.0038 - accuracy: 0.4806 - val_loss: 1.0188 - val_accuracy: 0.4600 - lr: 1.0000e-05\n",
      "Epoch 3/10\n",
      "7217/7217 [==============================] - 967s 134ms/step - loss: 0.9838 - accuracy: 0.4908 - val_loss: 1.0166 - val_accuracy: 0.4737 - lr: 1.0000e-05\n",
      "Epoch 4/10\n",
      "7217/7217 [==============================] - 991s 137ms/step - loss: 0.9684 - accuracy: 0.4996 - val_loss: 1.0069 - val_accuracy: 0.4813 - lr: 1.0000e-05\n",
      "Epoch 5/10\n",
      "7217/7217 [==============================] - 980s 136ms/step - loss: 0.9547 - accuracy: 0.5069 - val_loss: 1.0177 - val_accuracy: 0.4705 - lr: 1.0000e-05\n",
      "Epoch 6/10\n",
      "7217/7217 [==============================] - 993s 138ms/step - loss: 0.9420 - accuracy: 0.5133 - val_loss: 1.0212 - val_accuracy: 0.4764 - lr: 1.0000e-05\n",
      "Epoch 7/10\n",
      "7217/7217 [==============================] - 1017s 141ms/step - loss: 0.9314 - accuracy: 0.5186 - val_loss: 1.0134 - val_accuracy: 0.4762 - lr: 1.0000e-05\n",
      "Epoch 8/10\n",
      "7217/7217 [==============================] - 993s 138ms/step - loss: 0.9184 - accuracy: 0.5261 - val_loss: 1.0275 - val_accuracy: 0.4751 - lr: 1.0000e-05\n",
      "Epoch 9/10\n",
      "7217/7217 [==============================] - 1006s 139ms/step - loss: 0.9081 - accuracy: 0.5304 - val_loss: 1.0364 - val_accuracy: 0.4727 - lr: 1.0000e-05\n",
      "Epoch 10/10\n",
      "7217/7217 [==============================] - 1012s 140ms/step - loss: 0.8978 - accuracy: 0.5340 - val_loss: 1.0279 - val_accuracy: 0.4712 - lr: 1.0000e-05\n"
     ]
    },
    {
     "data": {
      "text/plain": [
       "<keras.src.callbacks.History at 0x78d6be440>"
      ]
     },
     "execution_count": 64,
     "metadata": {},
     "output_type": "execute_result"
    }
   ],
   "source": [
    "# Define a learning rate decay method:\n",
    "lr_decay = keras.callbacks.ReduceLROnPlateau(monitor='loss', \n",
    "                             patience=1,\n",
    "                             verbose=0,\n",
    "                             factor=0.5,\n",
    "                             min_lr=1e-8)\n",
    "\n",
    "model.fit(\n",
    "    train_generator,\n",
    "    steps_per_epoch=train_generator.samples // train_generator.batch_size,\n",
    "    validation_data=validation_generator,\n",
    "    validation_steps=validation_generator.samples // validation_generator.batch_size,\n",
    "    epochs=10,\n",
    "    callbacks=[lr_decay]\n",
    ")"
   ]
  },
  {
   "cell_type": "markdown",
   "metadata": {},
   "source": [
    "# PREDICT"
   ]
  },
  {
   "cell_type": "code",
   "execution_count": 75,
   "metadata": {},
   "outputs": [],
   "source": [
    "from scipy import stats\n",
    "\n",
    "test_images_path = directory + '/test/unkown'\n",
    "predictions = {}\n",
    "\n",
    "for idx in range(X_test_transformed_with_index_np.shape[0]):\n",
    "\n",
    "    heartbeat_predictions = []\n",
    "    heartbeats = []\n",
    "\n",
    "    for heartbeat_idx in range(120):\n",
    "        img_name = f'ECG{idx}_heartbeat{heartbeat_idx}.png'\n",
    "        img_path = os.path.join(test_images_path, img_name)\n",
    "\n",
    "        if os.path.exists(img_path):\n",
    "            heartbeats.append(np.repeat(cv2.imread(img_path, cv2.IMREAD_GRAYSCALE)[..., np.newaxis], 3, axis=-1) / 255)\n",
    "    \n",
    "    heartbeat_predictions.append(np.argmax(model( np.array(heartbeats), training=False), axis=1)[0])\n",
    "\n",
    "    median_prediction = int(stats.mode(np.array(heartbeat_predictions)).mode)\n",
    "    predictions[idx] = median_prediction\n",
    "\n",
    "y_pred = pd.DataFrame(data={'y': predictions})\n",
    "y_pred.index.name = 'id'\n",
    "\n",
    "y_pred.to_csv('sol_2D.csv', index = True)"
   ]
  },
  {
   "cell_type": "code",
   "execution_count": 76,
   "metadata": {},
   "outputs": [
    {
     "data": {
      "text/plain": [
       "array([[<Axes: title={'center': 'y'}>]], dtype=object)"
      ]
     },
     "execution_count": 76,
     "metadata": {},
     "output_type": "execute_result"
    },
    {
     "data": {
      "image/png": "[encoded data removed]",
      "text/plain": [
       "<Figure size 640x480 with 1 Axes>"
      ]
     },
     "metadata": {},
     "output_type": "display_data"
    }
   ],
   "source": [
    "y_pred.hist()"
   ]
  },
  {
   "cell_type": "code",
   "execution_count": null,
   "metadata": {},
   "outputs": [],
   "source": []
  }
 ],
 "metadata": {
  "kernelspec": {
   "display_name": "Python 3 (ipykernel)",
   "language": "python",
   "name": "python3"
  },
  "language_info": {
   "codemirror_mode": {
    "name": "ipython",
    "version": 3
   },
   "file_extension": ".py",
   "mimetype": "text/x-python",
   "name": "python",
   "nbconvert_exporter": "python",
   "pygments_lexer": "ipython3",
   "version": "3.10.13"
  }
 },
 "nbformat": 4,
 "nbformat_minor": 1
}
